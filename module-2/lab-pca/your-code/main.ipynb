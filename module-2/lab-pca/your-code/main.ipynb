{
 "cells": [
  {
   "cell_type": "markdown",
   "metadata": {},
   "source": [
    "# Before your start:\n",
    "- Read the README.md file\n",
    "- Comment as much as you can and use the resources (README.md file)\n",
    "- Happy learning!"
   ]
  },
  {
   "cell_type": "code",
   "execution_count": 1,
   "metadata": {},
   "outputs": [],
   "source": [
    "# Run this code:\n",
    "\n",
    "%matplotlib inline\n",
    "\n",
    "import matplotlib.pyplot as plt"
   ]
  },
  {
   "cell_type": "code",
   "execution_count": 2,
   "metadata": {},
   "outputs": [],
   "source": [
    "# Import numpy and pandas:\n",
    "\n",
    "import numpy as np\n",
    "import pandas as pd"
   ]
  },
  {
   "cell_type": "markdown",
   "metadata": {},
   "source": [
    "# Challenge 1 - Reading and Standardizing the Data\n",
    "\n",
    "In this challenge we will work with image data and reduce the dimensions of the data to create a 2 dimensional plot. While we have not worked much with image data before, it can be represented as a numpy array where each pixel is assigned a numeric value. In this lesson, we will look at a dataset of cats and a dataset of dogs and see whether reducing them to two dimensions allows us to see if the data is separable. We will start by loading and processing the data. Run the cell below to load the two csv files and convert them into numpy arrays."
   ]
  },
  {
   "cell_type": "code",
   "execution_count": 3,
   "metadata": {},
   "outputs": [],
   "source": [
    "# Run this code\n",
    "\n",
    "cats = np.array(pd.read_csv(\"https://raw.githubusercontent.com/bioramble/pca/master/cat.csv\", header=None))\n",
    "dogs = np.array(pd.read_csv(\"https://raw.githubusercontent.com/bioramble/pca/master/dog.csv\", header=None))"
   ]
  },
  {
   "cell_type": "markdown",
   "metadata": {},
   "source": [
    "Next, we'll examine the shape of both the cats and the dogs arrays. Print out both shapes below."
   ]
  },
  {
   "cell_type": "code",
   "execution_count": 4,
   "metadata": {},
   "outputs": [
    {
     "data": {
      "text/plain": [
       "(4096, 80)"
      ]
     },
     "execution_count": 4,
     "metadata": {},
     "output_type": "execute_result"
    }
   ],
   "source": [
    "# Your code here:\n",
    "cats.shape\n"
   ]
  },
  {
   "cell_type": "code",
   "execution_count": 5,
   "metadata": {},
   "outputs": [
    {
     "data": {
      "text/plain": [
       "(4096, 80)"
      ]
     },
     "execution_count": 5,
     "metadata": {},
     "output_type": "execute_result"
    }
   ],
   "source": [
    "dogs.shape"
   ]
  },
  {
   "cell_type": "markdown",
   "metadata": {},
   "source": [
    "What this means is that both arrays contain 80 images each (the number of columns). Each image is comprised of 64x64 pixels (so a total of 4096 pixels per image). The images have been flattened such that all 4096 are in a single row.\n",
    "\n",
    "Print out column 0 of the cats array to see what the pixels values look like."
   ]
  },
  {
   "cell_type": "code",
   "execution_count": 6,
   "metadata": {},
   "outputs": [
    {
     "data": {
      "text/plain": [
       "array([ 64,  23, 250, 137,  55, 173,  18, 134,  19,  47, 109, 164,  41,\n",
       "        78, 108, 108, 247, 105, 158,  54, 103,   4,  23, 102, 239,  72,\n",
       "        42,  21, 168, 109, 112, 177,  22, 233,  15, 236, 250, 137,  32,\n",
       "         5, 178, 109,  24, 107,  53, 241, 226, 143,   5, 136,  98, 100,\n",
       "        89,  66, 228,  92, 255,  88, 230,  56, 160,  69,   6,  24, 195,\n",
       "       183, 239,  35, 154, 154, 122,  18,  87, 106, 174,  69,  28,  60,\n",
       "       223, 101], dtype=int64)"
      ]
     },
     "execution_count": 6,
     "metadata": {},
     "output_type": "execute_result"
    }
   ],
   "source": [
    "# Your code here:\n",
    "\n",
    "cats[0]"
   ]
  },
  {
   "cell_type": "markdown",
   "metadata": {},
   "source": [
    "Using `matplotlib` we can plot a single cat or a single dog. We do this by reshaping the vector back to a 64x64 image and then using the `imshow` function.\n",
    "\n",
    "Run the code below to look at the first dog and the first cat."
   ]
  },
  {
   "cell_type": "code",
   "execution_count": 11,
   "metadata": {},
   "outputs": [
    {
     "data": {
      "text/plain": [
       "<matplotlib.image.AxesImage at 0x2517a487eb8>"
      ]
     },
     "execution_count": 11,
     "metadata": {},
     "output_type": "execute_result"
    },
    {
     "data": {
      "image/png": "[encoded data removed]",
      "text/plain": [
       "<Figure size 432x288 with 1 Axes>"
      ]
     },
     "metadata": {
      "needs_background": "light"
     },
     "output_type": "display_data"
    }
   ],
   "source": [
    "# Run this code:\n",
    "\n",
    "fig, ax = plt.subplots()\n",
    "ax.imshow(cats[:,8].reshape(64, 64).T, cmap=plt.cm.bone, interpolation='nearest') "
   ]
  },
  {
   "cell_type": "code",
   "execution_count": 15,
   "metadata": {},
   "outputs": [
    {
     "data": {
      "text/plain": [
       "<matplotlib.image.AxesImage at 0x2517b5d8e48>"
      ]
     },
     "execution_count": 15,
     "metadata": {},
     "output_type": "execute_result"
    },
    {
     "data": {
      "image/png": "[encoded data removed]",
      "text/plain": [
       "<Figure size 432x288 with 1 Axes>"
      ]
     },
     "metadata": {
      "needs_background": "light"
     },
     "output_type": "display_data"
    }
   ],
   "source": [
    "# Run this code:\n",
    "\n",
    "fig, ax = plt.subplots()\n",
    "ax.imshow(dogs[:,4].reshape(64, 64).T, cmap=plt.cm.bone, interpolation='nearest') "
   ]
  },
  {
   "cell_type": "markdown",
   "metadata": {},
   "source": [
    "Next, we would like to create a standardization function. This function will find the mean and standard deviation of each image. We subtract the mean from each pixel and divide each pixel by the standard deviation. Write the function below.\n",
    "\n",
    "Hint: To find the mean and standard deviation of each image, use `numpy`'s version of mean and stadnard deviation and use `axis=0`."
   ]
  },
  {
   "cell_type": "code",
   "execution_count": 23,
   "metadata": {},
   "outputs": [
    {
     "data": {
      "text/plain": [
       "array([[ 64,  23, 250, ...,  60, 223, 101],\n",
       "       [ 64,  23, 250, ...,  50, 224, 107],\n",
       "       [ 64,  20, 250, ...,  63, 225, 106],\n",
       "       ...,\n",
       "       [ 64,  31, 244, ..., 105, 180, 114],\n",
       "       [ 64,  23, 232, ..., 118, 182,  91],\n",
       "       [ 61,   9, 244, ..., 104, 177, 113]], dtype=int64)"
      ]
     },
     "execution_count": 23,
     "metadata": {},
     "output_type": "execute_result"
    }
   ],
   "source": [
    "def standardize(x):\n",
    "    result=((x-np.mean(x, axis=0))/np.std(x,axis=0))\n",
    "    return result\n",
    "    \n",
    "    #This function takes as input a numpy array and returns a stadardized numpy array of the same dimensions.\n",
    "    #Sample input: np.array([[1,2,3],[4,5,6]])\n",
    "    #Sample output: np.array([[-1,-1,-1],[1,1,1]])\n",
    "    \n",
    "    # Your code here:\n",
    "    standardize(cats)\n",
    "    standardize(dogs)\n",
    "cats"
   ]
  },
  {
   "cell_type": "markdown",
   "metadata": {},
   "source": [
    "Now, use the `np.concatenate` function to combine the cats and dogs arrays. Use `axis=1` to combine the two correctly. Make sure to put dogs first."
   ]
  },
  {
   "cell_type": "code",
   "execution_count": 24,
   "metadata": {},
   "outputs": [],
   "source": [
    "# Your code here:\n",
    "dogcat=np.concatenate((dogs, cats), axis=1)\n"
   ]
  },
  {
   "cell_type": "markdown",
   "metadata": {},
   "source": [
    "Standardize the concatenated array below."
   ]
  },
  {
   "cell_type": "code",
   "execution_count": 31,
   "metadata": {},
   "outputs": [],
   "source": [
    "# Your code here:\n",
    "dogcat1=standardize(dogcat)\n",
    "\n"
   ]
  },
  {
   "cell_type": "markdown",
   "metadata": {},
   "source": [
    "# Challenge 2 - Using PCA\n",
    "\n",
    "Now that we have created a standardized matrix of cats and dogs, we'll find the two most important components in the data.\n",
    "\n",
    "Load the `PCA` function from `statsmodels` (read about this function [here](https://www.statsmodels.org/dev/generated/statsmodels.multivariate.pca.PCA.html)) and apply the function to our standarized data. Create a PCA model with two components."
   ]
  },
  {
   "cell_type": "code",
   "execution_count": 26,
   "metadata": {},
   "outputs": [],
   "source": [
    "# Your code here:\n",
    "\n",
    "import numpy as np\n",
    "from statsmodels.multivariate.pca import PCA"
   ]
  },
  {
   "cell_type": "code",
   "execution_count": 39,
   "metadata": {},
   "outputs": [],
   "source": [
    "from sklearn.preprocessing import StandardScaler\n",
    "#transformer = StandardScaler().fit(dogcat1)\n",
    "#scaled=transformer.transform(dogcat1)\n",
    "#scaled=pd.DataFrame(dogcat1)\n",
    "scaled\n",
    "\n",
    "\n",
    "pc = PCA(np.array(scaled), ncomp=2, standardize=False,demean=False,normalize=False)"
   ]
  },
  {
   "cell_type": "code",
   "execution_count": 40,
   "metadata": {},
   "outputs": [
    {
     "data": {
      "text/plain": [
       "Principal Component Analysis(nobs: 4096, nvar: 160, transformation: None, normalization: False, number of components: 2, SVD, id: 0x2517e9837b8)"
      ]
     },
     "execution_count": 40,
     "metadata": {},
     "output_type": "execute_result"
    }
   ],
   "source": [
    "pc"
   ]
  },
  {
   "cell_type": "markdown",
   "metadata": {},
   "source": [
    "Use `numpy` to find to transpose the standardized pet array. This will help us compute the projection."
   ]
  },
  {
   "cell_type": "code",
   "execution_count": 44,
   "metadata": {},
   "outputs": [],
   "source": [
    "# Your code here:\n",
    "dogcat2=np.transpose(dogcat1, axes=None)\n"
   ]
  },
  {
   "cell_type": "markdown",
   "metadata": {},
   "source": [
    "Find the dot product of the transposed standardized pet matrix and the `factors` of the `PCA` model found above. This will be the projection onto 2 dimensions. This means that each cat and dog image will now only have two columns instead of 4096."
   ]
  },
  {
   "cell_type": "code",
   "execution_count": 45,
   "metadata": {},
   "outputs": [
    {
     "data": {
      "text/plain": [
       "array([[-14348.51403996,   3981.25944712],\n",
       "       [-10873.02274892,  -5211.51020311],\n",
       "       [  4378.84811622,  -4874.92264684],\n",
       "       [ -1717.00750064,  -8914.44277256],\n",
       "       [-11101.88403561,   1114.37054646],\n",
       "       [  2968.69193612, -12223.60194   ],\n",
       "       [ -7483.06180592,  -3579.58782471],\n",
       "       [ -4833.63699185, -10566.11876229],\n",
       "       [ -4191.47400669, -10471.82324263],\n",
       "       [-13334.74077993,    597.04234272],\n",
       "       [  -118.38412489,  -9615.53074771],\n",
       "       [ -7355.88387125,  -4776.32935207],\n",
       "       [ -2874.48878309,  -4525.68956723],\n",
       "       [  1033.48451936,  -4864.29685058],\n",
       "       [ -6479.84258266,  -8603.57349932],\n",
       "       [ -5938.77319629,  -9088.02896039],\n",
       "       [ -5412.98959434,  -2248.43976879],\n",
       "       [-13186.9381197 ,  -5746.19283944],\n",
       "       [ -6217.3937379 ,  -7773.48457253],\n",
       "       [ -5259.36310514, -12111.02603789],\n",
       "       [  1224.55685054,  -9684.24349219],\n",
       "       [  -545.64281957, -10373.06425468],\n",
       "       [ -3317.2973271 ,  -4130.0160113 ],\n",
       "       [ -4008.83807209, -11060.20428448],\n",
       "       [ -9166.89851992,  -8303.43522543],\n",
       "       [   -76.79809073, -11712.34531567],\n",
       "       [  1253.36448836,  -7792.92139822],\n",
       "       [  -301.47691174,  -6195.38085749],\n",
       "       [ -4596.55030413, -12812.53051954],\n",
       "       [ -3279.02474164,  -6686.88510065],\n",
       "       [ -1618.32754169,  -8292.43331694],\n",
       "       [ -2496.62003731,  -7304.55535301],\n",
       "       [-10175.68550061,  -7913.18284889],\n",
       "       [ -4459.79674617,  -9600.56787244],\n",
       "       [  2453.70336178, -10334.52628505],\n",
       "       [ -5357.58662079,  -4019.74306249],\n",
       "       [  4797.73247241, -10256.30192214],\n",
       "       [  -475.3659384 ,  -8548.30933946],\n",
       "       [  2221.68606905, -11645.36368665],\n",
       "       [ -9681.73484586,  -5150.36964356],\n",
       "       [ -5759.53697648, -10855.03674133],\n",
       "       [ -3876.90016793,   4513.32797908],\n",
       "       [  3402.68772526,  -8888.40792059],\n",
       "       [ -5129.89285789,  -7336.80820895],\n",
       "       [  2722.85190958,  -4363.9247384 ],\n",
       "       [ -6834.33746647,   6062.08283249],\n",
       "       [ -8975.72411867,   2271.50560519],\n",
       "       [ -2350.51419247,  -2165.33436077],\n",
       "       [ -5151.35683792,   3191.85496834],\n",
       "       [  5578.66853426,  -9319.5646492 ],\n",
       "       [ -9957.54405391,   2996.3362975 ],\n",
       "       [-12384.19422421,   7237.63139745],\n",
       "       [ -2065.89275451,   4095.95795828],\n",
       "       [  7365.23124635, -10883.19334582],\n",
       "       [  7290.94748682,  -1344.72661174],\n",
       "       [  4730.48421605,  -1014.13338771],\n",
       "       [ -9846.6114726 ,   1684.84081438],\n",
       "       [ -5013.19119067,   3296.67997625],\n",
       "       [  5624.153011  ,  -7272.06411289],\n",
       "       [   699.72887091,  -8205.26761682],\n",
       "       [ -2615.24352039, -10581.20769879],\n",
       "       [-10477.51871754,   5809.03509194],\n",
       "       [-10474.39333909,   1491.34624541],\n",
       "       [  7749.79936558,    796.22507081],\n",
       "       [  3611.89047859,  -2412.14268501],\n",
       "       [ -9229.22904368,    -31.48431534],\n",
       "       [ -1714.21648173,   5943.16007467],\n",
       "       [ 10885.35619217,  -3089.94414671],\n",
       "       [   777.33565848,   -882.97227691],\n",
       "       [ -7654.98785008,  -7829.0154452 ],\n",
       "       [  3583.33536669,  -3181.29131548],\n",
       "       [   340.30954059,  -8636.10241758],\n",
       "       [ -8924.04370772,  -6849.44314433],\n",
       "       [  7119.1664162 ,  -6520.90407069],\n",
       "       [ -3469.77550546,   6771.40466303],\n",
       "       [-13467.53784986,   1589.17404355],\n",
       "       [-11225.06255097,  -2345.05949258],\n",
       "       [  2797.49537074,  -9367.54896129],\n",
       "       [  1132.22318445,  -8977.37850888],\n",
       "       [-13177.99793529,    724.34620586],\n",
       "       [  5288.22177917,   3846.21434896],\n",
       "       [ 16785.39556919,    276.00956183],\n",
       "       [-16270.01004119,   1015.14529701],\n",
       "       [-13851.78938687,   -361.36789039],\n",
       "       [ 10194.47702701,   4735.15739008],\n",
       "       [  7049.21629179,   8906.64204244],\n",
       "       [ 13986.21247098,   -802.5109343 ],\n",
       "       [  1761.11819756,   4594.97978598],\n",
       "       [ 14309.89237319,   2060.97128643],\n",
       "       [  7107.8196699 ,   4658.84922132],\n",
       "       [   -21.97233637,   1258.96180718],\n",
       "       [ -1945.92814115,   1193.801674  ],\n",
       "       [ 17497.27387027,   2678.72027799],\n",
       "       [ 10242.615455  ,   3220.40683593],\n",
       "       [ -9761.4407143 ,   3721.68946705],\n",
       "       [ 13228.27940874,   4448.49624102],\n",
       "       [ -9780.37391771,   2950.13435206],\n",
       "       [ 11229.56457284,   2833.97033405],\n",
       "       [-14468.45332109,   -213.89629784],\n",
       "       [ 17092.00229135,   1336.11156812],\n",
       "       [ -3709.03984574,   3305.85103738],\n",
       "       [ 12002.49701554,   -504.80320202],\n",
       "       [ 11997.64943573,  -3527.45720931],\n",
       "       [ 11495.59261508,  -8686.63556973],\n",
       "       [-17430.58129484,   1590.07425441],\n",
       "       [  2377.41024662,  -5857.83146761],\n",
       "       [ 11805.90369479,   4871.480648  ],\n",
       "       [ 10667.36556312,  -4920.69340637],\n",
       "       [ -7227.47626474,    676.7529399 ],\n",
       "       [  7056.49386027,   2816.93928253],\n",
       "       [   827.6920916 ,   4509.30551944],\n",
       "       [ -4180.22790834,   4176.51655288],\n",
       "       [  6233.48258669,   8005.23505042],\n",
       "       [-17881.12661278,   3025.22107178],\n",
       "       [ 17265.18162667,   -565.43938881],\n",
       "       [  2565.78369676,  -3234.9871552 ],\n",
       "       [-17052.83217095,   -519.08162726],\n",
       "       [ 14522.4286321 ,   2136.85220866],\n",
       "       [  7077.75137809,  -5503.67342569],\n",
       "       [  5248.87171164,   3876.33920225],\n",
       "       [  2473.65523661,   5266.97875731],\n",
       "       [  9167.89428762,   4908.81839918],\n",
       "       [ 18395.78575586,  -3924.76655066],\n",
       "       [ 10813.44118742,  -5573.04086903],\n",
       "       [ 17509.76644324,  -5089.75190311],\n",
       "       [-11302.36681363,   4028.95274562],\n",
       "       [-11510.07589302,  -1220.12901718],\n",
       "       [ -9694.41645687,   2679.9568867 ],\n",
       "       [ 17134.01628255,  -1324.81975221],\n",
       "       [  -404.94373884,   2287.7788086 ],\n",
       "       [  8433.06121352,   4088.45323249],\n",
       "       [  5376.37059494,  -3195.48605748],\n",
       "       [ 15589.91313906,   4216.63809862],\n",
       "       [ 12168.29867821,   3578.51124958],\n",
       "       [ -6274.4380327 ,   5539.79331328],\n",
       "       [ 13139.2560041 ,   4849.39649138],\n",
       "       [ 12272.45794052,   5969.00708023],\n",
       "       [  6590.70324639,  -2501.37636534],\n",
       "       [-11135.50821534,   7493.7033765 ],\n",
       "       [  7340.14552237,  -9242.91815198],\n",
       "       [   586.75888059,   -325.61907095],\n",
       "       [  7224.10928126,   3839.57518243],\n",
       "       [ 13343.09909611,   2831.36755854],\n",
       "       [ 14208.55735459,  -2966.08225137],\n",
       "       [ -8477.91982098,    645.24193431],\n",
       "       [  2376.70335043,   4996.24279651],\n",
       "       [-17235.50410128,   2079.06059451],\n",
       "       [  1213.02140776,   -110.15779259],\n",
       "       [ -7514.96555034,   1770.78871807],\n",
       "       [-11034.72199442,  -1242.03407783],\n",
       "       [ -5308.59640949,    975.06338583],\n",
       "       [ 11831.50674547,  -3244.82675595],\n",
       "       [  3711.99452896,   3907.36235464],\n",
       "       [  -677.47315953,  -1036.97345982],\n",
       "       [ -3745.53807717,   -178.54459556],\n",
       "       [  9083.16430257,  -5162.86627335],\n",
       "       [ 11127.61796642,  -6407.59399479],\n",
       "       [ 15434.30445791,  -3475.07571659],\n",
       "       [ -5767.39027684,  -1036.51724046],\n",
       "       [  2729.0275441 ,   3500.99743831]])"
      ]
     },
     "execution_count": 45,
     "metadata": {},
     "output_type": "execute_result"
    }
   ],
   "source": [
    "# Your code here:\n",
    "\n",
    "np.dot(dogcat2,pc.factors)"
   ]
  },
  {
   "cell_type": "markdown",
   "metadata": {},
   "source": [
    "# Challenge 3 - Plotting the Data\n",
    "\n",
    "Now that we have reduced our cats and dogs arrays, we can easily plot the data in a way that the human eye can understand. We can look at this plot to see whether there are differences between the cat and dog images. \n",
    "\n",
    "In the cell below, turn the two dimensional projection into a pandas dataframe and name the columns `pc1`, and `pc2` respectively."
   ]
  },
  {
   "cell_type": "code",
   "execution_count": 47,
   "metadata": {},
   "outputs": [],
   "source": [
    "# Your code here:\n",
    "\n",
    "#data_new=pd.DataFrame(np.dot(dogcat2,pc.factors))\n",
    "data_new.columns = ['pc1', 'pc2']"
   ]
  },
  {
   "cell_type": "code",
   "execution_count": 70,
   "metadata": {},
   "outputs": [
    {
     "data": {
      "text/plain": [
       "Index(['pc1', 'pc2'], dtype='object')"
      ]
     },
     "execution_count": 70,
     "metadata": {},
     "output_type": "execute_result"
    }
   ],
   "source": [
    "data_new.columns"
   ]
  },
  {
   "cell_type": "markdown",
   "metadata": {},
   "source": [
    "Create a labels list. This list will be of size 160. The first 80 elements in the list will be the word `blue`, and the last 80 elements will be `red`. This will ensure that all dog observations will be colored in blue and all cats will be colored in red. Name this list `colors`."
   ]
  },
  {
   "cell_type": "code",
   "execution_count": 66,
   "metadata": {},
   "outputs": [],
   "source": [
    "# Your code here:\n",
    "\n",
    "colors=['blue']*80\n",
    "colors+=['red']*80\n",
    "\n"
   ]
  },
  {
   "cell_type": "code",
   "execution_count": 67,
   "metadata": {},
   "outputs": [
    {
     "data": {
      "text/plain": [
       "['blue',\n",
       " 'blue',\n",
       " 'blue',\n",
       " 'blue',\n",
       " 'blue',\n",
       " 'blue',\n",
       " 'blue',\n",
       " 'blue',\n",
       " 'blue',\n",
       " 'blue',\n",
       " 'blue',\n",
       " 'blue',\n",
       " 'blue',\n",
       " 'blue',\n",
       " 'blue',\n",
       " 'blue',\n",
       " 'blue',\n",
       " 'blue',\n",
       " 'blue',\n",
       " 'blue',\n",
       " 'blue',\n",
       " 'blue',\n",
       " 'blue',\n",
       " 'blue',\n",
       " 'blue',\n",
       " 'blue',\n",
       " 'blue',\n",
       " 'blue',\n",
       " 'blue',\n",
       " 'blue',\n",
       " 'blue',\n",
       " 'blue',\n",
       " 'blue',\n",
       " 'blue',\n",
       " 'blue',\n",
       " 'blue',\n",
       " 'blue',\n",
       " 'blue',\n",
       " 'blue',\n",
       " 'blue',\n",
       " 'blue',\n",
       " 'blue',\n",
       " 'blue',\n",
       " 'blue',\n",
       " 'blue',\n",
       " 'blue',\n",
       " 'blue',\n",
       " 'blue',\n",
       " 'blue',\n",
       " 'blue',\n",
       " 'blue',\n",
       " 'blue',\n",
       " 'blue',\n",
       " 'blue',\n",
       " 'blue',\n",
       " 'blue',\n",
       " 'blue',\n",
       " 'blue',\n",
       " 'blue',\n",
       " 'blue',\n",
       " 'blue',\n",
       " 'blue',\n",
       " 'blue',\n",
       " 'blue',\n",
       " 'blue',\n",
       " 'blue',\n",
       " 'blue',\n",
       " 'blue',\n",
       " 'blue',\n",
       " 'blue',\n",
       " 'blue',\n",
       " 'blue',\n",
       " 'blue',\n",
       " 'blue',\n",
       " 'blue',\n",
       " 'blue',\n",
       " 'blue',\n",
       " 'blue',\n",
       " 'blue',\n",
       " 'blue',\n",
       " 'red',\n",
       " 'red',\n",
       " 'red',\n",
       " 'red',\n",
       " 'red',\n",
       " 'red',\n",
       " 'red',\n",
       " 'red',\n",
       " 'red',\n",
       " 'red',\n",
       " 'red',\n",
       " 'red',\n",
       " 'red',\n",
       " 'red',\n",
       " 'red',\n",
       " 'red',\n",
       " 'red',\n",
       " 'red',\n",
       " 'red',\n",
       " 'red',\n",
       " 'red',\n",
       " 'red',\n",
       " 'red',\n",
       " 'red',\n",
       " 'red',\n",
       " 'red',\n",
       " 'red',\n",
       " 'red',\n",
       " 'red',\n",
       " 'red',\n",
       " 'red',\n",
       " 'red',\n",
       " 'red',\n",
       " 'red',\n",
       " 'red',\n",
       " 'red',\n",
       " 'red',\n",
       " 'red',\n",
       " 'red',\n",
       " 'red',\n",
       " 'red',\n",
       " 'red',\n",
       " 'red',\n",
       " 'red',\n",
       " 'red',\n",
       " 'red',\n",
       " 'red',\n",
       " 'red',\n",
       " 'red',\n",
       " 'red',\n",
       " 'red',\n",
       " 'red',\n",
       " 'red',\n",
       " 'red',\n",
       " 'red',\n",
       " 'red',\n",
       " 'red',\n",
       " 'red',\n",
       " 'red',\n",
       " 'red',\n",
       " 'red',\n",
       " 'red',\n",
       " 'red',\n",
       " 'red',\n",
       " 'red',\n",
       " 'red',\n",
       " 'red',\n",
       " 'red',\n",
       " 'red',\n",
       " 'red',\n",
       " 'red',\n",
       " 'red',\n",
       " 'red',\n",
       " 'red',\n",
       " 'red',\n",
       " 'red',\n",
       " 'red',\n",
       " 'red',\n",
       " 'red',\n",
       " 'red']"
      ]
     },
     "execution_count": 67,
     "metadata": {},
     "output_type": "execute_result"
    }
   ],
   "source": [
    "colors"
   ]
  },
  {
   "cell_type": "markdown",
   "metadata": {},
   "source": [
    "Create a scatter plot of `pc1` and `pc2` below. Use the `colors` list above to color the observations by setting `c=colors`."
   ]
  },
  {
   "cell_type": "code",
   "execution_count": 73,
   "metadata": {},
   "outputs": [
    {
     "data": {
      "text/plain": [
       "<matplotlib.axes._subplots.AxesSubplot at 0x25101697160>"
      ]
     },
     "execution_count": 73,
     "metadata": {},
     "output_type": "execute_result"
    },
    {
     "data": {
      "image/png": "[encoded data removed]",
      "text/plain": [
       "<Figure size 432x288 with 1 Axes>"
      ]
     },
     "metadata": {
      "needs_background": "light"
     },
     "output_type": "display_data"
    }
   ],
   "source": [
    "# Your code here:\n",
    "\n",
    "import seaborn as sns\n",
    "import matplotlib.pyplot as plt\n",
    "%matplotlib inline\n",
    "sns.scatterplot(x=data_new['pc1'], y=data_new['pc2'], data=data_new, hue=colors)"
   ]
  },
  {
   "cell_type": "markdown",
   "metadata": {},
   "source": [
    "Do you see a clear separation between cats and dogs? Write your answer below."
   ]
  },
  {
   "cell_type": "code",
   "execution_count": 18,
   "metadata": {},
   "outputs": [],
   "source": [
    "# Your conclusions here:\n",
    "\n",
    "#There is somewhat of a separation where the dogs (blue) are centered around the bottom left, while cats (red)\n",
    "#are generally around the top right. That said there is a lot of intermingling between the two groups. "
   ]
  },
  {
   "cell_type": "code",
   "execution_count": null,
   "metadata": {},
   "outputs": [],
   "source": []
  }
 ],
 "metadata": {
  "kernelspec": {
   "display_name": "Python 3",
   "language": "python",
   "name": "python3"
  },
  "language_info": {
   "codemirror_mode": {
    "name": "ipython",
    "version": 3
   },
   "file_extension": ".py",
   "mimetype": "text/x-python",
   "name": "python",
   "nbconvert_exporter": "python",
   "pygments_lexer": "ipython3",
   "version": "3.7.3"
  }
 },
 "nbformat": 4,
 "nbformat_minor": 2
}
