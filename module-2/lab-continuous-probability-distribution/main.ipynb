{
 "cells": [
  {
   "cell_type": "markdown",
   "metadata": {},
   "source": [
    "# Before your start:\n",
    "\n",
    "    Read the README.md file\n",
    "    Comment as much as you can and use the resources (README.md file)\n",
    "    Happy learning!"
   ]
  },
  {
   "cell_type": "markdown",
   "metadata": {},
   "source": [
    "In this exercise, we  will generate random numbers from the continuous disributions we learned in the lesson. There are two ways to generate random numbers:\n",
    "\n",
    "1. Using the numpy library \n",
    "1. using the Scipy library \n",
    "\n",
    "Use either or both of the lbraries in this exercise."
   ]
  },
  {
   "cell_type": "markdown",
   "metadata": {},
   "source": [
    "## Uniform Distribution\n",
    "\n",
    "To generate uniform random numbers between any two given values using scipy, we can either use the following code or the code that we have\n",
    "discussed in class:"
   ]
  },
  {
   "cell_type": "code",
   "execution_count": 12,
   "metadata": {},
   "outputs": [
    {
     "name": "stdout",
     "output_type": "stream",
     "text": [
      "[2.26031169 2.33893604 2.46068916 2.84957701 2.67222092 2.06352461\n",
      " 2.91348093 2.44425073 2.43796927 2.21277121]\n"
     ]
    }
   ],
   "source": [
    "from scipy.stats import uniform\n",
    "x = uniform.rvs(size=10)\n",
    "a = 2\n",
    "b = 3\n",
    "randoms  = a + (b-a)*x\n",
    "print(randoms)"
   ]
  },
  {
   "cell_type": "markdown",
   "metadata": {},
   "source": [
    "**Your task:**\n",
    "\n",
    "1. Based on the code above, write a function that generates uniformly distributed random numbers. There are several requirements for your function:\n",
    "    * It should accept 3 parameters: \n",
    "        * `bottom` - the lower boundary of the generated numbers\n",
    "        * `ceiling` - the upper boundary of the generated numbers\n",
    "        * `count` - how many numbers to generate\n",
    "    * It should return an array of uniformly distributed random numbers\n",
    "\n",
    "1. Call your function with 2 sets of params below:\n",
    "    * bottom=10, ceiling=15, count=100\n",
    "    * bottom=10, ceiling=60, count=1,000\n",
    "\n",
    "1. Plot the uniform distributions generated above using histograms, where x axis is the value and y axis is the count. Let the histogram's number of bins be 10.\n",
    "\n",
    "Your output should look like below:\n",
    "\n",
    "![uniform distribution](ud.png)"
   ]
  },
  {
   "cell_type": "code",
   "execution_count": 39,
   "metadata": {},
   "outputs": [
    {
     "data": {
      "text/plain": [
       "(array([113., 105., 113.,  96.,  95.,  91.,  81., 100., 106., 100.]),\n",
       " array([10.00040856, 14.98667694, 19.97294532, 24.9592137 , 29.94548208,\n",
       "        34.93175046, 39.91801884, 44.90428722, 49.89055559, 54.87682397,\n",
       "        59.86309235]),\n",
       " <a list of 1 Patch objects>)"
      ]
     },
     "execution_count": 39,
     "metadata": {},
     "output_type": "execute_result"
    },
    {
     "data": {
      "image/png": "[encoded data removed]",
      "text/plain": [
       "<Figure size 576x288 with 2 Axes>"
      ]
     },
     "metadata": {
      "needs_background": "light"
     },
     "output_type": "display_data"
    }
   ],
   "source": [
    "# your code here\n",
    "%matplotlib inline\n",
    "import matplotlib.pyplot as plt\n",
    "import numpy as np\n",
    "a=np.random.uniform(10, 15,100)\n",
    "b=np.random.uniform(10,60,1000)\n",
    "\n",
    "fig, (ax1, ax2) = plt.subplots(ncols=2,figsize=(8,4), sharey=True)\n",
    "ax1.hist(a,10, histtype='stepfilled', facecolor='g', alpha=0.75)\n",
    "ax2.hist(b,10, histtype='stepfilled', facecolor='g', alpha=0.75)\n",
    "\n"
   ]
  },
  {
   "cell_type": "markdown",
   "metadata": {},
   "source": [
    "How are the two distributions different?"
   ]
  },
  {
   "cell_type": "code",
   "execution_count": null,
   "metadata": {},
   "outputs": [],
   "source": [
    "# your answer below\n",
    "#More events in the distribution with the 1000 count, so it theoretically would approach uniformity more quickly than the \n",
    "#distribution with 100 count."
   ]
  },
  {
   "cell_type": "markdown",
   "metadata": {},
   "source": [
    "## Normal Distribution\n",
    "\n",
    "1. In the same way in the Uniform Distribution challenge, write a function that generates normally distributed random numbers.\n",
    "1. Generate 1,000 normally distributed numbers with the average of 10 and standard deviation of 1\n",
    "1. Generate 1,000 normally distributed numbers with the average of 10 and standard deviation of 50\n",
    "2. Plot the distributions of the data generated.\n",
    "\n",
    "Expected output:\n",
    "\n",
    "![normal distribution](nd.png)"
   ]
  },
  {
   "cell_type": "code",
   "execution_count": 43,
   "metadata": {},
   "outputs": [
    {
     "data": {
      "image/png": "[encoded data removed]",
      "text/plain": [
       "<Figure size 432x288 with 1 Axes>"
      ]
     },
     "metadata": {
      "needs_background": "light"
     },
     "output_type": "display_data"
    },
    {
     "data": {
      "image/png": "[encoded data removed]",
      "text/plain": [
       "<Figure size 432x288 with 1 Axes>"
      ]
     },
     "metadata": {
      "needs_background": "light"
     },
     "output_type": "display_data"
    }
   ],
   "source": [
    "import math\n",
    "from scipy.stats import norm\n",
    "import numpy as np\n",
    "%matplotlib inline\n",
    "import matplotlib.pyplot as plt\n",
    "\n",
    "\n",
    "x=np.random.normal(10,1,1000)\n",
    "y=np.random.normal(10,50,1000)\n",
    "\n",
    "plt.hist(x, 10,facecolor='b')\n",
    "plt.show()\n",
    "plt.hist(y, 10,facecolor='r')\n",
    "plt.show()\n",
    "\n",
    "\n",
    "\n",
    "#x = np.random.normal(size = 1000)\n",
    "#plt.hist(x, bins=50)\n",
    "#plt.gca().set(title='Frequency Histogram', ylabel='Frequency');"
   ]
  },
  {
   "cell_type": "markdown",
   "metadata": {},
   "source": [
    "How are the two distributions different?"
   ]
  },
  {
   "cell_type": "code",
   "execution_count": null,
   "metadata": {},
   "outputs": [],
   "source": [
    "# your answer below\n",
    "#they have similar shapes but their scales are different, particularly at the x-axis, where one can note the difference\n",
    "#in their standard deviations "
   ]
  },
  {
   "cell_type": "markdown",
   "metadata": {},
   "source": [
    "## Normal Distribution of Real Data\n",
    "\n",
    "In this challenge we are going to take a look the real data. We will use vehicles.csv file for this exercise"
   ]
  },
  {
   "cell_type": "markdown",
   "metadata": {},
   "source": [
    "First import vehicles.csv.\n",
    "Then plot the histograms for the following variables:\n",
    "\n",
    "1. Fuel Barrels/Year"
   ]
  },
  {
   "cell_type": "code",
   "execution_count": 46,
   "metadata": {},
   "outputs": [
    {
     "data": {
      "text/html": [
       "<div>\n",
       "<style scoped>\n",
       "    .dataframe tbody tr th:only-of-type {\n",
       "        vertical-align: middle;\n",
       "    }\n",
       "\n",
       "    .dataframe tbody tr th {\n",
       "        vertical-align: top;\n",
       "    }\n",
       "\n",
       "    .dataframe thead th {\n",
       "        text-align: right;\n",
       "    }\n",
       "</style>\n",
       "<table border=\"1\" class=\"dataframe\">\n",
       "  <thead>\n",
       "    <tr style=\"text-align: right;\">\n",
       "      <th></th>\n",
       "      <th>Make</th>\n",
       "      <th>Model</th>\n",
       "      <th>Year</th>\n",
       "      <th>Engine Displacement</th>\n",
       "      <th>Cylinders</th>\n",
       "      <th>Transmission</th>\n",
       "      <th>Drivetrain</th>\n",
       "      <th>Vehicle Class</th>\n",
       "      <th>Fuel Type</th>\n",
       "      <th>Fuel Barrels/Year</th>\n",
       "      <th>City MPG</th>\n",
       "      <th>Highway MPG</th>\n",
       "      <th>Combined MPG</th>\n",
       "      <th>CO2 Emission Grams/Mile</th>\n",
       "      <th>Fuel Cost/Year</th>\n",
       "    </tr>\n",
       "  </thead>\n",
       "  <tbody>\n",
       "    <tr>\n",
       "      <th>0</th>\n",
       "      <td>AM General</td>\n",
       "      <td>DJ Po Vehicle 2WD</td>\n",
       "      <td>1984</td>\n",
       "      <td>2.5</td>\n",
       "      <td>4.0</td>\n",
       "      <td>Automatic 3-spd</td>\n",
       "      <td>2-Wheel Drive</td>\n",
       "      <td>Special Purpose Vehicle 2WD</td>\n",
       "      <td>Regular</td>\n",
       "      <td>19.388824</td>\n",
       "      <td>18</td>\n",
       "      <td>17</td>\n",
       "      <td>17</td>\n",
       "      <td>522.764706</td>\n",
       "      <td>1950</td>\n",
       "    </tr>\n",
       "    <tr>\n",
       "      <th>1</th>\n",
       "      <td>AM General</td>\n",
       "      <td>FJ8c Post Office</td>\n",
       "      <td>1984</td>\n",
       "      <td>4.2</td>\n",
       "      <td>6.0</td>\n",
       "      <td>Automatic 3-spd</td>\n",
       "      <td>2-Wheel Drive</td>\n",
       "      <td>Special Purpose Vehicle 2WD</td>\n",
       "      <td>Regular</td>\n",
       "      <td>25.354615</td>\n",
       "      <td>13</td>\n",
       "      <td>13</td>\n",
       "      <td>13</td>\n",
       "      <td>683.615385</td>\n",
       "      <td>2550</td>\n",
       "    </tr>\n",
       "    <tr>\n",
       "      <th>2</th>\n",
       "      <td>AM General</td>\n",
       "      <td>Post Office DJ5 2WD</td>\n",
       "      <td>1985</td>\n",
       "      <td>2.5</td>\n",
       "      <td>4.0</td>\n",
       "      <td>Automatic 3-spd</td>\n",
       "      <td>Rear-Wheel Drive</td>\n",
       "      <td>Special Purpose Vehicle 2WD</td>\n",
       "      <td>Regular</td>\n",
       "      <td>20.600625</td>\n",
       "      <td>16</td>\n",
       "      <td>17</td>\n",
       "      <td>16</td>\n",
       "      <td>555.437500</td>\n",
       "      <td>2100</td>\n",
       "    </tr>\n",
       "    <tr>\n",
       "      <th>3</th>\n",
       "      <td>AM General</td>\n",
       "      <td>Post Office DJ8 2WD</td>\n",
       "      <td>1985</td>\n",
       "      <td>4.2</td>\n",
       "      <td>6.0</td>\n",
       "      <td>Automatic 3-spd</td>\n",
       "      <td>Rear-Wheel Drive</td>\n",
       "      <td>Special Purpose Vehicle 2WD</td>\n",
       "      <td>Regular</td>\n",
       "      <td>25.354615</td>\n",
       "      <td>13</td>\n",
       "      <td>13</td>\n",
       "      <td>13</td>\n",
       "      <td>683.615385</td>\n",
       "      <td>2550</td>\n",
       "    </tr>\n",
       "    <tr>\n",
       "      <th>4</th>\n",
       "      <td>ASC Incorporated</td>\n",
       "      <td>GNX</td>\n",
       "      <td>1987</td>\n",
       "      <td>3.8</td>\n",
       "      <td>6.0</td>\n",
       "      <td>Automatic 4-spd</td>\n",
       "      <td>Rear-Wheel Drive</td>\n",
       "      <td>Midsize Cars</td>\n",
       "      <td>Premium</td>\n",
       "      <td>20.600625</td>\n",
       "      <td>14</td>\n",
       "      <td>21</td>\n",
       "      <td>16</td>\n",
       "      <td>555.437500</td>\n",
       "      <td>2550</td>\n",
       "    </tr>\n",
       "  </tbody>\n",
       "</table>\n",
       "</div>"
      ],
      "text/plain": [
       "               Make                Model  Year  Engine Displacement  \\\n",
       "0        AM General    DJ Po Vehicle 2WD  1984                  2.5   \n",
       "1        AM General     FJ8c Post Office  1984                  4.2   \n",
       "2        AM General  Post Office DJ5 2WD  1985                  2.5   \n",
       "3        AM General  Post Office DJ8 2WD  1985                  4.2   \n",
       "4  ASC Incorporated                  GNX  1987                  3.8   \n",
       "\n",
       "   Cylinders     Transmission        Drivetrain                Vehicle Class  \\\n",
       "0        4.0  Automatic 3-spd     2-Wheel Drive  Special Purpose Vehicle 2WD   \n",
       "1        6.0  Automatic 3-spd     2-Wheel Drive  Special Purpose Vehicle 2WD   \n",
       "2        4.0  Automatic 3-spd  Rear-Wheel Drive  Special Purpose Vehicle 2WD   \n",
       "3        6.0  Automatic 3-spd  Rear-Wheel Drive  Special Purpose Vehicle 2WD   \n",
       "4        6.0  Automatic 4-spd  Rear-Wheel Drive                 Midsize Cars   \n",
       "\n",
       "  Fuel Type  Fuel Barrels/Year  City MPG  Highway MPG  Combined MPG  \\\n",
       "0   Regular          19.388824        18           17            17   \n",
       "1   Regular          25.354615        13           13            13   \n",
       "2   Regular          20.600625        16           17            16   \n",
       "3   Regular          25.354615        13           13            13   \n",
       "4   Premium          20.600625        14           21            16   \n",
       "\n",
       "   CO2 Emission Grams/Mile  Fuel Cost/Year  \n",
       "0               522.764706            1950  \n",
       "1               683.615385            2550  \n",
       "2               555.437500            2100  \n",
       "3               683.615385            2550  \n",
       "4               555.437500            2550  "
      ]
     },
     "execution_count": 46,
     "metadata": {},
     "output_type": "execute_result"
    }
   ],
   "source": [
    "vehicles=pd.read_csv('vehicles.csv')\n",
    "vehicles.head(5)"
   ]
  },
  {
   "cell_type": "code",
   "execution_count": 47,
   "metadata": {},
   "outputs": [
    {
     "data": {
      "text/plain": [
       "array([[<matplotlib.axes._subplots.AxesSubplot object at 0x000002A0B8AD37B8>]],\n",
       "      dtype=object)"
      ]
     },
     "execution_count": 47,
     "metadata": {},
     "output_type": "execute_result"
    },
    {
     "data": {
      "image/png": "[encoded data removed]",
      "text/plain": [
       "<Figure size 432x288 with 1 Axes>"
      ]
     },
     "metadata": {
      "needs_background": "light"
     },
     "output_type": "display_data"
    }
   ],
   "source": [
    "vehicles.hist(column=\"Fuel Barrels/Year\")"
   ]
  },
  {
   "cell_type": "markdown",
   "metadata": {},
   "source": [
    "2. CO2 Emission Grams/Mile "
   ]
  },
  {
   "cell_type": "code",
   "execution_count": 48,
   "metadata": {},
   "outputs": [
    {
     "data": {
      "text/plain": [
       "array([[<matplotlib.axes._subplots.AxesSubplot object at 0x000002A0B8390E80>]],\n",
       "      dtype=object)"
      ]
     },
     "execution_count": 48,
     "metadata": {},
     "output_type": "execute_result"
    },
    {
     "data": {
      "image/png": "[encoded data removed]",
      "text/plain": [
       "<Figure size 432x288 with 1 Axes>"
      ]
     },
     "metadata": {
      "needs_background": "light"
     },
     "output_type": "display_data"
    }
   ],
   "source": [
    "# your code here\n",
    "vehicles.hist(column=\"CO2 Emission Grams/Mile\")"
   ]
  },
  {
   "cell_type": "markdown",
   "metadata": {},
   "source": [
    "3. Combined MPG"
   ]
  },
  {
   "cell_type": "code",
   "execution_count": 49,
   "metadata": {},
   "outputs": [
    {
     "data": {
      "text/plain": [
       "array([[<matplotlib.axes._subplots.AxesSubplot object at 0x000002A0B8CFE7B8>]],\n",
       "      dtype=object)"
      ]
     },
     "execution_count": 49,
     "metadata": {},
     "output_type": "execute_result"
    },
    {
     "data": {
      "image/png": "[encoded data removed]",
      "text/plain": [
       "<Figure size 432x288 with 1 Axes>"
      ]
     },
     "metadata": {
      "needs_background": "light"
     },
     "output_type": "display_data"
    }
   ],
   "source": [
    "# your code here\n",
    "vehicles.hist(column=\"Combined MPG\")"
   ]
  },
  {
   "cell_type": "markdown",
   "metadata": {},
   "source": [
    "Which one(s) of the variables are nearly normally distributed? How do you know?"
   ]
  },
  {
   "cell_type": "code",
   "execution_count": null,
   "metadata": {},
   "outputs": [],
   "source": [
    "# your answer here\n",
    "#Fuel Barrels per Year, since Combined MPG has a long tail to the right, and CO2 Emissions is skewed to the left. "
   ]
  },
  {
   "cell_type": "markdown",
   "metadata": {},
   "source": [
    "## Exponential Distribution"
   ]
  },
  {
   "cell_type": "markdown",
   "metadata": {},
   "source": [
    "1. Using `numpy.random.exponential`, create a function that returns a list of numbers exponentially distributed with the mean of 10. \n",
    "\n",
    "1. Use the function to generate two number sequences with the size of 1 and 100.\n",
    "\n",
    "1. Plot the distributions as histograms with the nubmer of bins as 100.\n",
    "\n",
    "Your output should look like below:\n",
    "\n",
    "![exponential distribution](ed.png)"
   ]
  },
  {
   "cell_type": "code",
   "execution_count": 53,
   "metadata": {},
   "outputs": [
    {
     "data": {
      "text/plain": [
       "(array([77., 69., 56., 55., 68., 49., 44., 51., 32., 26., 30., 32., 31.,\n",
       "        28., 20., 23., 24., 14., 17., 17., 25., 15., 14., 11., 11.,  2.,\n",
       "        14., 14., 12.,  6.,  6.,  5.,  7.,  6.,  3.,  5.,  8.,  2.,  8.,\n",
       "         8.,  5.,  3.,  1.,  2.,  4.,  3.,  0.,  2.,  2.,  1.,  3.,  4.,\n",
       "         0.,  3.,  0.,  3.,  1.,  4.,  1.,  1.,  0.,  1.,  0.,  2.,  2.,\n",
       "         0.,  0.,  1.,  0.,  1.,  0.,  0.,  0.,  0.,  0.,  0.,  1.,  0.,\n",
       "         0.,  0.,  0.,  0.,  0.,  1.,  0.,  0.,  0.,  0.,  0.,  0.,  0.,\n",
       "         1.,  0.,  0.,  1.,  0.,  0.,  0.,  0.,  1.]),\n",
       " array([5.04811636e-04, 7.38753029e-01, 1.47700125e+00, 2.21524947e+00,\n",
       "        2.95349768e+00, 3.69174590e+00, 4.42999412e+00, 5.16824234e+00,\n",
       "        5.90649055e+00, 6.64473877e+00, 7.38298699e+00, 8.12123521e+00,\n",
       "        8.85948343e+00, 9.59773164e+00, 1.03359799e+01, 1.10742281e+01,\n",
       "        1.18124763e+01, 1.25507245e+01, 1.32889727e+01, 1.40272209e+01,\n",
       "        1.47654692e+01, 1.55037174e+01, 1.62419656e+01, 1.69802138e+01,\n",
       "        1.77184620e+01, 1.84567103e+01, 1.91949585e+01, 1.99332067e+01,\n",
       "        2.06714549e+01, 2.14097031e+01, 2.21479513e+01, 2.28861996e+01,\n",
       "        2.36244478e+01, 2.43626960e+01, 2.51009442e+01, 2.58391924e+01,\n",
       "        2.65774407e+01, 2.73156889e+01, 2.80539371e+01, 2.87921853e+01,\n",
       "        2.95304335e+01, 3.02686817e+01, 3.10069300e+01, 3.17451782e+01,\n",
       "        3.24834264e+01, 3.32216746e+01, 3.39599228e+01, 3.46981710e+01,\n",
       "        3.54364193e+01, 3.61746675e+01, 3.69129157e+01, 3.76511639e+01,\n",
       "        3.83894121e+01, 3.91276604e+01, 3.98659086e+01, 4.06041568e+01,\n",
       "        4.13424050e+01, 4.20806532e+01, 4.28189014e+01, 4.35571497e+01,\n",
       "        4.42953979e+01, 4.50336461e+01, 4.57718943e+01, 4.65101425e+01,\n",
       "        4.72483908e+01, 4.79866390e+01, 4.87248872e+01, 4.94631354e+01,\n",
       "        5.02013836e+01, 5.09396318e+01, 5.16778801e+01, 5.24161283e+01,\n",
       "        5.31543765e+01, 5.38926247e+01, 5.46308729e+01, 5.53691211e+01,\n",
       "        5.61073694e+01, 5.68456176e+01, 5.75838658e+01, 5.83221140e+01,\n",
       "        5.90603622e+01, 5.97986105e+01, 6.05368587e+01, 6.12751069e+01,\n",
       "        6.20133551e+01, 6.27516033e+01, 6.34898515e+01, 6.42280998e+01,\n",
       "        6.49663480e+01, 6.57045962e+01, 6.64428444e+01, 6.71810926e+01,\n",
       "        6.79193408e+01, 6.86575891e+01, 6.93958373e+01, 7.01340855e+01,\n",
       "        7.08723337e+01, 7.16105819e+01, 7.23488302e+01, 7.30870784e+01,\n",
       "        7.38253266e+01]),\n",
       " <a list of 100 Patch objects>)"
      ]
     },
     "execution_count": 53,
     "metadata": {},
     "output_type": "execute_result"
    },
    {
     "data": {
      "image/png": "[encoded data removed]",
      "text/plain": [
       "<Figure size 432x288 with 1 Axes>"
      ]
     },
     "metadata": {
      "needs_background": "light"
     },
     "output_type": "display_data"
    }
   ],
   "source": [
    "# your code here\n",
    "x= np.random.exponential(10, 1000)\n",
    "plt.hist(x, 100,facecolor='b')"
   ]
  },
  {
   "cell_type": "code",
   "execution_count": 60,
   "metadata": {},
   "outputs": [
    {
     "data": {
      "text/plain": [
       "(array([77., 50., 70., 57., 57., 45., 37., 45., 47., 23., 37., 46., 37.,\n",
       "        20., 23., 19., 25., 14., 23., 10., 15., 20., 13., 22., 11., 12.,\n",
       "         9.,  8.,  9., 11.,  9.,  6.,  9.,  5.,  6.,  3.,  5.,  2.,  2.,\n",
       "         5.,  3.,  1.,  4.,  8.,  4.,  4.,  2.,  3.,  1.,  3.,  1.,  3.,\n",
       "         0.,  0.,  2.,  2.,  2.,  2.,  1.,  1.,  3.,  0.,  1.,  1.,  1.,\n",
       "         0.,  0.,  0.,  1.,  0.,  0.,  1.,  0.,  0.,  0.,  0.,  0.,  0.,\n",
       "         0.,  0.,  0.,  0.,  0.,  0.,  0.,  0.,  0.,  0.,  0.,  0.,  0.,\n",
       "         0.,  0.,  0.,  0.,  0.,  0.,  0.,  0.,  1.]),\n",
       " array([9.46265326e-04, 7.06510088e-02, 1.40355752e-01, 2.10060496e-01,\n",
       "        2.79765239e-01, 3.49469983e-01, 4.19174726e-01, 4.88879470e-01,\n",
       "        5.58584213e-01, 6.28288957e-01, 6.97993700e-01, 7.67698444e-01,\n",
       "        8.37403187e-01, 9.07107931e-01, 9.76812674e-01, 1.04651742e+00,\n",
       "        1.11622216e+00, 1.18592690e+00, 1.25563165e+00, 1.32533639e+00,\n",
       "        1.39504114e+00, 1.46474588e+00, 1.53445062e+00, 1.60415537e+00,\n",
       "        1.67386011e+00, 1.74356485e+00, 1.81326960e+00, 1.88297434e+00,\n",
       "        1.95267908e+00, 2.02238383e+00, 2.09208857e+00, 2.16179331e+00,\n",
       "        2.23149806e+00, 2.30120280e+00, 2.37090754e+00, 2.44061229e+00,\n",
       "        2.51031703e+00, 2.58002178e+00, 2.64972652e+00, 2.71943126e+00,\n",
       "        2.78913601e+00, 2.85884075e+00, 2.92854549e+00, 2.99825024e+00,\n",
       "        3.06795498e+00, 3.13765972e+00, 3.20736447e+00, 3.27706921e+00,\n",
       "        3.34677395e+00, 3.41647870e+00, 3.48618344e+00, 3.55588818e+00,\n",
       "        3.62559293e+00, 3.69529767e+00, 3.76500241e+00, 3.83470716e+00,\n",
       "        3.90441190e+00, 3.97411665e+00, 4.04382139e+00, 4.11352613e+00,\n",
       "        4.18323088e+00, 4.25293562e+00, 4.32264036e+00, 4.39234511e+00,\n",
       "        4.46204985e+00, 4.53175459e+00, 4.60145934e+00, 4.67116408e+00,\n",
       "        4.74086882e+00, 4.81057357e+00, 4.88027831e+00, 4.94998305e+00,\n",
       "        5.01968780e+00, 5.08939254e+00, 5.15909728e+00, 5.22880203e+00,\n",
       "        5.29850677e+00, 5.36821152e+00, 5.43791626e+00, 5.50762100e+00,\n",
       "        5.57732575e+00, 5.64703049e+00, 5.71673523e+00, 5.78643998e+00,\n",
       "        5.85614472e+00, 5.92584946e+00, 5.99555421e+00, 6.06525895e+00,\n",
       "        6.13496369e+00, 6.20466844e+00, 6.27437318e+00, 6.34407792e+00,\n",
       "        6.41378267e+00, 6.48348741e+00, 6.55319215e+00, 6.62289690e+00,\n",
       "        6.69260164e+00, 6.76230639e+00, 6.83201113e+00, 6.90171587e+00,\n",
       "        6.97142062e+00]),\n",
       " <a list of 100 Patch objects>)"
      ]
     },
     "execution_count": 60,
     "metadata": {},
     "output_type": "execute_result"
    },
    {
     "data": {
      "image/png": "[encoded data removed]",
      "text/plain": [
       "<Figure size 432x288 with 1 Axes>"
      ]
     },
     "metadata": {
      "needs_background": "light"
     },
     "output_type": "display_data"
    }
   ],
   "source": [
    "y= np.random.exponential(1, 1000)\n",
    "plt.hist(y, 100,facecolor='b')"
   ]
  },
  {
   "cell_type": "markdown",
   "metadata": {},
   "source": [
    "How are the two distributions different?"
   ]
  },
  {
   "cell_type": "code",
   "execution_count": null,
   "metadata": {},
   "outputs": [],
   "source": [
    "# your answer here\n",
    "#The scale of the x axis changes with the mean used"
   ]
  },
  {
   "cell_type": "markdown",
   "metadata": {},
   "source": [
    "## Exponential Distribution of Real Data\n",
    "\n",
    "Suppose that the amount of time one spends in a bank is exponentially distributed with mean as 10 minutes (i.e. λ = 1/10). What is the probability that a customer will spend less than fifteen minutes in the bank? \n",
    "\n",
    "Write a code in python to solve this problem"
   ]
  },
  {
   "cell_type": "code",
   "execution_count": 61,
   "metadata": {},
   "outputs": [
    {
     "name": "stdout",
     "output_type": "stream",
     "text": [
      "0.9932620530009145\n"
     ]
    }
   ],
   "source": [
    "# your answer here\n",
    "# Hint: This is same as saying P(x<15)\n",
    "from scipy.stats import expon\n",
    "exp = expon(10) \n",
    "\n",
    "print(exp.cdf(15))       \n"
   ]
  },
  {
   "cell_type": "markdown",
   "metadata": {},
   "source": [
    "What is the probability that the customer will spend more than 15 minutes"
   ]
  },
  {
   "cell_type": "code",
   "execution_count": 62,
   "metadata": {},
   "outputs": [
    {
     "name": "stdout",
     "output_type": "stream",
     "text": [
      "0.006737946999085467\n"
     ]
    }
   ],
   "source": [
    "# your answer here\n",
    "print(exp.pdf(15))   "
   ]
  },
  {
   "cell_type": "code",
   "execution_count": null,
   "metadata": {},
   "outputs": [],
   "source": []
  }
 ],
 "metadata": {
  "kernelspec": {
   "display_name": "Python 3",
   "language": "python",
   "name": "python3"
  },
  "language_info": {
   "codemirror_mode": {
    "name": "ipython",
    "version": 3
   },
   "file_extension": ".py",
   "mimetype": "text/x-python",
   "name": "python",
   "nbconvert_exporter": "python",
   "pygments_lexer": "ipython3",
   "version": "3.7.3"
  }
 },
 "nbformat": 4,
 "nbformat_minor": 2
}
