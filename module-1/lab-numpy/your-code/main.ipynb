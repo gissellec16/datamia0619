{
 "cells": [
  {
   "cell_type": "code",
   "execution_count": 1,
   "metadata": {},
   "outputs": [
    {
     "name": "stdout",
     "output_type": "stream",
     "text": [
      "1.16.2\n"
     ]
    }
   ],
   "source": [
    "#1. Import the NUMPY package under the name np.\n",
    "\n",
    "import numpy as np\n",
    "\n",
    "#2. Print the NUMPY version and the configuration.\n",
    "print(np.version.version)"
   ]
  },
  {
   "cell_type": "code",
   "execution_count": 2,
   "metadata": {},
   "outputs": [
    {
     "name": "stdout",
     "output_type": "stream",
     "text": [
      "[[[0.44597035 0.08870119 0.99952177 0.29940306 0.23359335]\n",
      "  [0.39382337 0.40599397 0.99751225 0.65090027 0.23986147]\n",
      "  [0.62729486 0.42412377 0.66827961 0.07313626 0.45887253]]\n",
      "\n",
      " [[0.86108245 0.88695666 0.43269916 0.14779845 0.66699515]\n",
      "  [0.35446085 0.90370837 0.3330465  0.78654807 0.64206586]\n",
      "  [0.87540562 0.50229934 0.09560188 0.22117585 0.14984954]]]\n"
     ]
    }
   ],
   "source": [
    "#3. Generate a 2x3x5 3-dimensional array with random values. Assign the array to variable \"a\"\n",
    "# Challenge: there are at least three easy ways that use numpy to generate random arrays. How many ways can you find?\n",
    "a=np.random.random((2,3,5))\n",
    "\n",
    "#a=np.random.normal((2,3,5))\n",
    "#a=np.random.uniform((2,3,5))\n",
    "#4. Print a.\n",
    "print(a)"
   ]
  },
  {
   "cell_type": "code",
   "execution_count": 8,
   "metadata": {},
   "outputs": [
    {
     "name": "stdout",
     "output_type": "stream",
     "text": [
      "[[[1. 1. 1.]\n",
      "  [1. 1. 1.]]\n",
      "\n",
      " [[1. 1. 1.]\n",
      "  [1. 1. 1.]]\n",
      "\n",
      " [[1. 1. 1.]\n",
      "  [1. 1. 1.]]\n",
      "\n",
      " [[1. 1. 1.]\n",
      "  [1. 1. 1.]]\n",
      "\n",
      " [[1. 1. 1.]\n",
      "  [1. 1. 1.]]]\n"
     ]
    }
   ],
   "source": [
    "#5. Create a 5x2x3 3-dimensional array with all values equaling 1.\n",
    "#Assign the array to variable \"b\"\n",
    "b = np.ones((5,2,3))\n",
    "\n",
    "\n",
    "#6. Print b.\n",
    "print(b)"
   ]
  },
  {
   "cell_type": "code",
   "execution_count": 11,
   "metadata": {},
   "outputs": [
    {
     "name": "stdout",
     "output_type": "stream",
     "text": [
      "30\n",
      "30\n"
     ]
    }
   ],
   "source": [
    "#7. Do a and b have the same size? How do you prove that in Python code?\n",
    "#yes, shown below:\n",
    "print(a.size)\n",
    "print(b.size)\n",
    "\n",
    "\n",
    "#8. Are you able to add a and b? Why or why not?\n",
    "#no - not same shape"
   ]
  },
  {
   "cell_type": "code",
   "execution_count": 17,
   "metadata": {},
   "outputs": [
    {
     "name": "stdout",
     "output_type": "stream",
     "text": [
      "[[[1. 1. 1. 1. 1.]\n",
      "  [1. 1. 1. 1. 1.]\n",
      "  [1. 1. 1. 1. 1.]]\n",
      "\n",
      " [[1. 1. 1. 1. 1.]\n",
      "  [1. 1. 1. 1. 1.]\n",
      "  [1. 1. 1. 1. 1.]]]\n"
     ]
    }
   ],
   "source": [
    "#9. Transpose b so that it has the same structure of a (i.e. become a 2x3x5 array). \n",
    "#Assign the transposed array to varialbe \"c\".\n",
    "c=np.reshape(b, (2,3,5))\n",
    "print(c)"
   ]
  },
  {
   "cell_type": "code",
   "execution_count": 19,
   "metadata": {},
   "outputs": [
    {
     "name": "stdout",
     "output_type": "stream",
     "text": [
      "[[[1.44597035 1.08870119 1.99952177 1.29940306 1.23359335]\n",
      "  [1.39382337 1.40599397 1.99751225 1.65090027 1.23986147]\n",
      "  [1.62729486 1.42412377 1.66827961 1.07313626 1.45887253]]\n",
      "\n",
      " [[1.86108245 1.88695666 1.43269916 1.14779845 1.66699515]\n",
      "  [1.35446085 1.90370837 1.3330465  1.78654807 1.64206586]\n",
      "  [1.87540562 1.50229934 1.09560188 1.22117585 1.14984954]]]\n",
      "[[[0.44597035 0.08870119 0.99952177 0.29940306 0.23359335]\n",
      "  [0.39382337 0.40599397 0.99751225 0.65090027 0.23986147]\n",
      "  [0.62729486 0.42412377 0.66827961 0.07313626 0.45887253]]\n",
      "\n",
      " [[0.86108245 0.88695666 0.43269916 0.14779845 0.66699515]\n",
      "  [0.35446085 0.90370837 0.3330465  0.78654807 0.64206586]\n",
      "  [0.87540562 0.50229934 0.09560188 0.22117585 0.14984954]]]\n"
     ]
    }
   ],
   "source": [
    "#10. Try to add a and c. Now it should work. Assign the sum to varialbe \"d\". But why does it work now?\n",
    "d=np.add(a, c)\n",
    "print(d)\n",
    "#it works now because they are the same size (2,3,5)\n",
    "\n",
    "\n",
    "#11. Print a and d. Notice the difference and relation of the two array in terms of the values? Explain.\n",
    "print(a)\n",
    "#both a and d have the same size and shape, but d is \"1\" larger than a due to the addition function done in question 10"
   ]
  },
  {
   "cell_type": "code",
   "execution_count": 21,
   "metadata": {},
   "outputs": [
    {
     "name": "stdout",
     "output_type": "stream",
     "text": [
      "[[[0.44597035 0.08870119 0.99952177 0.29940306 0.23359335]\n",
      "  [0.39382337 0.40599397 0.99751225 0.65090027 0.23986147]\n",
      "  [0.62729486 0.42412377 0.66827961 0.07313626 0.45887253]]\n",
      "\n",
      " [[0.86108245 0.88695666 0.43269916 0.14779845 0.66699515]\n",
      "  [0.35446085 0.90370837 0.3330465  0.78654807 0.64206586]\n",
      "  [0.87540562 0.50229934 0.09560188 0.22117585 0.14984954]]]\n",
      "[[[0.44597035 0.08870119 0.99952177 0.29940306 0.23359335]\n",
      "  [0.39382337 0.40599397 0.99751225 0.65090027 0.23986147]\n",
      "  [0.62729486 0.42412377 0.66827961 0.07313626 0.45887253]]\n",
      "\n",
      " [[0.86108245 0.88695666 0.43269916 0.14779845 0.66699515]\n",
      "  [0.35446085 0.90370837 0.3330465  0.78654807 0.64206586]\n",
      "  [0.87540562 0.50229934 0.09560188 0.22117585 0.14984954]]]\n"
     ]
    }
   ],
   "source": [
    "#12. Multiply a and c. Assign the result to e.\n",
    "e=np.multiply(a, c)\n",
    "print(e)\n",
    "\n",
    "\n",
    "#13. Does e equal to a? Why or why not?\n",
    "print(a) #it does because multiplying by one (matrix c) gives the original value"
   ]
  },
  {
   "cell_type": "code",
   "execution_count": 64,
   "metadata": {},
   "outputs": [
    {
     "name": "stdout",
     "output_type": "stream",
     "text": [
      "[[[ 25.  25. 100.  25.  25.]\n",
      "  [ 25.  25.  75.  75.  25.]\n",
      "  [ 75.  25.  75.   0.  25.]]\n",
      "\n",
      " [[ 75.  75.  25.  25.  75.]\n",
      "  [ 25.  75.  25.  75.  75.]\n",
      "  [ 75.  75.  25.  25.  25.]]]\n",
      "1.0731362589715085\n"
     ]
    }
   ],
   "source": [
    "#14. Identify the max, min, and mean values in d. Assign those values to variables \"d_max\", \"d_min\", and \"d_mean\"\n",
    "d_max=np.amax(d)\n",
    "d_min=np.amin(d)\n",
    "d_mean=np.mean(d)\n",
    "\n",
    "\n",
    "\n",
    "#15. Now we want to label the values in d. First create an empty array \"f\" with the same shape (i.e. 2x3x5) \n",
    "#as d using `np.empty`.\n",
    "f=np.empty(shape=(2,3,5))\n",
    "print(f)\n",
    "print(d_min)"
   ]
  },
  {
   "cell_type": "code",
   "execution_count": 32,
   "metadata": {},
   "outputs": [
    {
     "name": "stdout",
     "output_type": "stream",
     "text": [
      "[1.44597035 1.08870119 1.99952177 1.29940306 1.23359335]\n",
      "[1.39382337 1.40599397 1.99751225 1.65090027 1.23986147]\n",
      "[1.62729486 1.42412377 1.66827961 1.07313626 1.45887253]\n"
     ]
    }
   ],
   "source": [
    "#16. Populate the values in f. For each value in d, \n",
    "#if it's larger than d_min but smaller than d_mean, assign 25 to the corresponding value in f.\n",
    "#If a value in d is larger than d_mean but smaller than d_max, assign 75 to the corresponding value in f.\n",
    "#If a value equals to d_mean, assign 50 to the corresponding value in f.\n",
    "#Assign 0 to the corresponding value(s) in f for d_min in d.\n",
    "#Assign 100 to the corresponding value(s) in f for d_max in d.\n",
    "#In the end, f should have only the following values: 0, 25, 50, 75, and 100.\n",
    "#Note: you don't have to use Numpy in this question.\n",
    "\n"
   ]
  },
  {
   "cell_type": "code",
   "execution_count": 62,
   "metadata": {},
   "outputs": [
    {
     "name": "stdout",
     "output_type": "stream",
     "text": [
      "[[[ 25.  25. 100.  25.  25.]\n",
      "  [ 25.  25.  75.  75.  25.]\n",
      "  [ 75.  25.  75.   0.  25.]]\n",
      "\n",
      " [[ 75.  75.  25.  25.  75.]\n",
      "  [ 25.  75.  25.  75.  75.]\n",
      "  [ 75.  75.  25.  25.  25.]]]\n"
     ]
    }
   ],
   "source": [
    "I,J,K=0,0,0\n",
    "for i in d:\n",
    "    for j in i:\n",
    "        for k in range(len(j)):\n",
    "            if j[k] > d_min and d_mean > j[k]:\n",
    "                f[I,J,K]= 25\n",
    "            elif j[k] > d_mean and d_max > j[k]:\n",
    "                   f[I,J,K] = 75\n",
    "            elif j[k] == d_mean:\n",
    "                f[I,J,K] = 50\n",
    "            elif j[k] == d_min:\n",
    "                f[I,J,K] = 0\n",
    "            elif j[k] == d_max:\n",
    "                f[I,J,K] = 100\n",
    "            K=K+1\n",
    "        K=0\n",
    "        J+=1\n",
    "    K=0\n",
    "    J=0\n",
    "    I+=1\n",
    "print(f)\n",
    "            "
   ]
  },
  {
   "cell_type": "code",
   "execution_count": 63,
   "metadata": {},
   "outputs": [
    {
     "name": "stdout",
     "output_type": "stream",
     "text": [
      "[[[1.44597035 1.08870119 1.99952177 1.29940306 1.23359335]\n",
      "  [1.39382337 1.40599397 1.99751225 1.65090027 1.23986147]\n",
      "  [1.62729486 1.42412377 1.66827961 1.07313626 1.45887253]]\n",
      "\n",
      " [[1.86108245 1.88695666 1.43269916 1.14779845 1.66699515]\n",
      "  [1.35446085 1.90370837 1.3330465  1.78654807 1.64206586]\n",
      "  [1.87540562 1.50229934 1.09560188 1.22117585 1.14984954]]]\n",
      "[[[ 25.  25. 100.  25.  25.]\n",
      "  [ 25.  25.  75.  75.  25.]\n",
      "  [ 75.  25.  75.   0.  25.]]\n",
      "\n",
      " [[ 75.  75.  25.  25.  75.]\n",
      "  [ 25.  75.  25.  75.  75.]\n",
      "  [ 75.  75.  25.  25.  25.]]]\n"
     ]
    }
   ],
   "source": [
    "#17. Print d and f. Do you have your expected f? Yes, it makes sense.\n",
    "print(d)\n",
    "print(f)"
   ]
  },
  {
   "cell_type": "code",
   "execution_count": 68,
   "metadata": {},
   "outputs": [],
   "source": [
    "#18. \n",
    "#Bonus question: instead of using numbers (i.e. 0, 25, 50, 75, and 100), how to use string values \n",
    "#(\"A\", \"B\", \"C\", \"D\", and \"E\") to label the array elements? You are expecting the result to be: \n"
   ]
  }
 ],
 "metadata": {
  "kernelspec": {
   "display_name": "Python 3",
   "language": "python",
   "name": "python3"
  },
  "language_info": {
   "codemirror_mode": {
    "name": "ipython",
    "version": 3
   },
   "file_extension": ".py",
   "mimetype": "text/x-python",
   "name": "python",
   "nbconvert_exporter": "python",
   "pygments_lexer": "ipython3",
   "version": "3.7.3"
  }
 },
 "nbformat": 4,
 "nbformat_minor": 2
}
