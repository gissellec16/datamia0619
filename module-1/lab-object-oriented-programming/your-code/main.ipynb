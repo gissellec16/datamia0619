{
 "cells": [
  {
   "cell_type": "markdown",
   "metadata": {},
   "source": [
    "# Before your start:\n",
    "- Read the README.md file\n",
    "- Comment as much as you can and use the resources in the README.md file\n",
    "- Happy learning!"
   ]
  },
  {
   "cell_type": "markdown",
   "metadata": {},
   "source": [
    "# Challenge 1 - Matrix Functions\n",
    "\n",
    "#### We would like to create our own matrix. To make life simple for us, we can represent matrices as a list of lists. For the sake of simplicity, we will assume that the maximum number of dimensions a matrix will have is 2.\n",
    "\n",
    "The most basic thing we would like to do with two matrices is to add them together. To add two matrices, we must perform a number of checks. The first check we would like to perform is whether the matrix is two dimesional. This is because we want to limit ourselves to two dimensional matrices to simplify our problem. In the cell below write a function that checks is a matrix is two dimesional. "
   ]
  },
  {
   "cell_type": "code",
   "execution_count": 3,
   "metadata": {},
   "outputs": [],
   "source": [
    "import numpy as np\n",
    "\n",
    "def twodim(mat):\n",
    "    if (type(mat) is not list):\n",
    "        raise ValueError(\"Error: Variable is not list.\")\n",
    "    for x in mat:\n",
    "        if (type(x) is not list):\n",
    "            raise ValueError(\"Error: Variable is not two dimensional\")\n",
    "        for y in x:\n",
    "            if (type(y) is list):\n",
    "                raise ValueError(\"Error: Matrix is more than two dimensional\")\n",
    "    return(\"TRUE\")\n",
    "\n",
    "    # This function takes a list of lists and checks that it is of depth 2. \n",
    "    # If the depth is not 2, either return false or return informative errors that let the user know the depth of the list.\n",
    "    # Input: nested list\n",
    "    # Output: Boolean (or error)\n",
    "    # Sample Input: [[1,2,3], [4,5,6]]\n",
    "    # Sample Output: True\n",
    "    \n",
    "    # Your Code Here:mat = np.array([[1,2], [1,2,3],[1,2,3]])\n",
    "    "
   ]
  },
  {
   "cell_type": "code",
   "execution_count": 4,
   "metadata": {},
   "outputs": [
    {
     "data": {
      "text/plain": [
       "'TRUE'"
      ]
     },
     "execution_count": 4,
     "metadata": {},
     "output_type": "execute_result"
    }
   ],
   "source": [
    "twodim([[1,2], [1,2,3],[1,2,3]])"
   ]
  },
  {
   "cell_type": "markdown",
   "metadata": {},
   "source": [
    "# Bonus Challenge 1 - Write the function recursively\n",
    "\n",
    "Rewrite the `twodim` function using recursion. \n",
    "Read more about recursion [here](https://www.cs.utah.edu/~germain/PPS/Topics/recursion.html)\n",
    "\n",
    "Hint: stop your recursion when there are no more lists, this wil be the depth of your matrix. Check that this depth is equal to 2.\n",
    "Second Hint: At every level of the recursion, use the filter function to keep only the members of the list that are lists."
   ]
  },
  {
   "cell_type": "code",
   "execution_count": 5,
   "metadata": {},
   "outputs": [],
   "source": [
    "\n",
    "def twodimrecursive(mat):\n",
    "    if not type(mat) == list:\n",
    "        return(\"FALSE\")\n",
    "    else:\n",
    "        l = len(mat)\n",
    "        if (l <= 2):\n",
    "            print(\"Depth is 2\")\n",
    "        else:\n",
    "            print(\"Depth is not 2\")\n",
    "    # Your code here:\n",
    "    \n",
    "    \n",
    "    "
   ]
  },
  {
   "cell_type": "code",
   "execution_count": 6,
   "metadata": {},
   "outputs": [
    {
     "name": "stdout",
     "output_type": "stream",
     "text": [
      "Depth is 2\n"
     ]
    }
   ],
   "source": [
    "twodimrecursive([[1,2,3],[1,2]])"
   ]
  },
  {
   "cell_type": "markdown",
   "metadata": {},
   "source": [
    "#### Next, we will write a function that checks for the number of rows and columns of a matrix. \n",
    "\n",
    "Recall that the outer list will tell us the number of rows and the inner lists will tell us the number of columns. Make sure that all inner lists are of the same length."
   ]
  },
  {
   "cell_type": "code",
   "execution_count": 7,
   "metadata": {},
   "outputs": [],
   "source": [
    "import numpy as np\n",
    "\n",
    "    \n",
    "def rowcolumn(mat):\n",
    "        print(np.shape(mat))\n",
    "\n",
    "    \n",
    "    # This function takes a list of lists and returns the size of the rows and the columns \n",
    "    # Input: list of lists\n",
    "    # Output: Tuple of rows and columns\n",
    "    #\n",
    "    # Sample input: [[1,2,3],[4,5,6]]\n",
    "    # Sample Output: (2, 3)\n",
    "    \n",
    "    # Your code here:\n",
    "    "
   ]
  },
  {
   "cell_type": "code",
   "execution_count": 8,
   "metadata": {},
   "outputs": [
    {
     "name": "stdout",
     "output_type": "stream",
     "text": [
      "(3, 4)\n"
     ]
    }
   ],
   "source": [
    "rowcolumn([[1,2,3,4], [1,2,3,4],[1,2,3,4]])"
   ]
  },
  {
   "cell_type": "code",
   "execution_count": 9,
   "metadata": {},
   "outputs": [],
   "source": [
    "def rowcolumn(mat):\n",
    "    rows = len(mat)\n",
    "    cols = len(mat[0])\n",
    "    print((rows,cols))"
   ]
  },
  {
   "cell_type": "code",
   "execution_count": 10,
   "metadata": {},
   "outputs": [
    {
     "name": "stdout",
     "output_type": "stream",
     "text": [
      "(3, 4)\n"
     ]
    }
   ],
   "source": [
    "rowcolumn([[1,2,3,4], [1,2,3,4],[1,2,3,4]])"
   ]
  },
  {
   "cell_type": "markdown",
   "metadata": {},
   "source": [
    "#### Our next step is to write a function that compares two matrices and tells us whether they are of equal size.\n",
    "\n",
    "In this function we will check whether the number of rows and number of columns is the same."
   ]
  },
  {
   "cell_type": "code",
   "execution_count": 11,
   "metadata": {},
   "outputs": [],
   "source": [
    "def compare(mat1, mat2):\n",
    "    print(np.shape(mat1))\n",
    "    print(np.shape(mat2))\n",
    "    if np.shape(mat1) == np.shape(mat2):\n",
    "        print(\"TRUE\")\n",
    "    else:\n",
    "        print(\"FALSE\")\n",
    "    # This function takes a two lists of lists and checks whether they have the same number of rows and columns\n",
    "    # Input: two list of lists\n",
    "    # Output: True or False\n",
    "    #\n",
    "    # Sample input: [[1,2,3],[4,5,6]], [[7,8,9], [10,11,12]]\n",
    "    # Sample Output: True\n",
    "    \n",
    "    # Your code here:\n",
    "    "
   ]
  },
  {
   "cell_type": "code",
   "execution_count": 12,
   "metadata": {},
   "outputs": [
    {
     "name": "stdout",
     "output_type": "stream",
     "text": [
      "(2, 3)\n",
      "(2, 3)\n",
      "TRUE\n"
     ]
    }
   ],
   "source": [
    "compare([[1,2,3],[4,5,6]], [[7,8,9], [10,11,12]])"
   ]
  },
  {
   "cell_type": "markdown",
   "metadata": {},
   "source": [
    "#### Now that we have all the tools we need, write a function that adds two matrices together. \n",
    "\n",
    "Remember that a matrix is represented as a list of lists. Therefore, we must add each element in the list. The plus symbol is used for concatenating two lists and not for adding every element in two lists."
   ]
  },
  {
   "cell_type": "code",
   "execution_count": 13,
   "metadata": {},
   "outputs": [],
   "source": [
    "import numpy as np\n",
    "result=np.zeros((2,3)) #need to specify dimensions before before filling in empty list\n",
    "def addition(mat1, mat2):\n",
    "    print(mat1)\n",
    "    print(mat2)\n",
    "    for i in range(len(mat1)):\n",
    "        for j in range(len(mat1[0])):\n",
    "            result[i][j]=mat1[i][j]+mat2[i][j]\n",
    " \n",
    "    print(result)\n",
    "    # This function takes a two lists of lists and adds each cell together\n",
    "    # Input: two list of lists\n",
    "    # Output: one summed list of lists\n",
    "    #\n",
    "    # Sample input: [[1,2,3],[4,5,6]], [[7,8,9], [10,11,12]]\n",
    "    # Sample Output: [[8,10,12],[14,16,18]]\n",
    "    \n",
    "    # Your code here:\n",
    "    "
   ]
  },
  {
   "cell_type": "code",
   "execution_count": 14,
   "metadata": {},
   "outputs": [
    {
     "data": {
      "text/plain": [
       "1"
      ]
     },
     "execution_count": 14,
     "metadata": {},
     "output_type": "execute_result"
    }
   ],
   "source": [
    "a = [[1,2,3],[4,5,6]]\n",
    "a[0][0]"
   ]
  },
  {
   "cell_type": "code",
   "execution_count": 15,
   "metadata": {},
   "outputs": [
    {
     "name": "stdout",
     "output_type": "stream",
     "text": [
      "[[1, 2, 3], [4, 5, 6]]\n",
      "[[7, 8, 9], [10, 11, 12]]\n",
      "[[ 8. 10. 12.]\n",
      " [14. 16. 18.]]\n"
     ]
    }
   ],
   "source": [
    "addition([[1,2,3],\n",
    "          [4,5,6]], \n",
    "         \n",
    "         [[7,8,9], \n",
    "          [10,11,12]])"
   ]
  },
  {
   "cell_type": "markdown",
   "metadata": {},
   "source": [
    "# Challenge 2 - Creating the Class\n",
    "\n",
    "In the cell below, you will be creating the class Matrix2D. Use the functions you have written above and tweak them according to the instructions in the comments. You got this!"
   ]
  },
  {
   "cell_type": "code",
   "execution_count": 16,
   "metadata": {},
   "outputs": [],
   "source": [
    "class Matrix2D:\n",
    "    # First, we will write the __init__ function. \n",
    "    # In this function, we will initialize rows and the columns using the matrix that we have passed to the class.\n",
    "\n",
    "    def __init__(self, mat):\n",
    "        self.mat = mat\n",
    "        self.rows = rowcolumn(self.mat)\n",
    "        self.cols = rowcolumn(self.mat)\n",
    "        # Assign mat to self.mat\n",
    "        # Assign rows and cols to self.rows and self.cols\n",
    "        # To find the rows and the cols, use the rowcolumn function and pass self.mat to the function.\n",
    "        # Since the rowcolumn function is now a member of the class, make sure to refer to the function as self.rowcolumn\n",
    "        \n",
    "        # Your code here:\n",
    " \n",
    " \n",
    "    def rowcolumn(self, mat):\n",
    "        self.rows=len(self.mat)\n",
    "        self.cols = len(self.mat[0])\n",
    "        print((self.rows,self.cols))\n",
    "    # Insert the twodim function here.\n",
    "    # The only change you need to make is that now we are passing self and mat to the function (make sure self is first).\n",
    "    \n",
    "    # Your code here:\n",
    "    def twodim(self,mat):\n",
    "        if (type(self.mat) is not list):\n",
    "            raise ValueError(\"Error: Variable is not list.\")\n",
    "        for x in self.mat:\n",
    "            if (type(x) is not list):\n",
    "                raise ValueError(\"Error: Variable is not two dimensional\")\n",
    "            for y in x:\n",
    "                if (type(y) is list):\n",
    "                    raise ValueError(\"Error: Matrix is more than two dimensional\")\n",
    "        return(\"TRUE\")\n",
    "\n",
    "    \n",
    "    # Insert the rowcolumn function here.\n",
    "    # The changes you need to make: \n",
    "    # 1. The function now takes self and mat as arguments (make sure to pass self first).\n",
    "    # 2. Any reference to twodim will be changed to self.twodim since this function is a member of the class and takes self \n",
    "    \n",
    "    # Your code here:\n",
    "\n",
    "    \n",
    "    \n",
    "    # Insert the compare function here\n",
    "    # Add self as the first argument passed to the function\n",
    "\n",
    "    # Your code here:\n",
    "    def compare(self, matrix):\n",
    "        rows = len(self.mat)\n",
    "        cols=len(self.mat[0])\n",
    "        rows1=len(matrix.mat)\n",
    "        cols1=len(matrix.mat[0])\n",
    "        if (rows, cols) == (rows1,cols1):\n",
    "            print(\"TRUE\")\n",
    "        else:\n",
    "            print(\"FALSE\")\n",
    "\n",
    "\n",
    "    # Insert the addition function here\n",
    "    # This function now takes self and matrix (another matrix of the Matrix2D class)\n",
    "    # Change the compare function to self.compare \n",
    "    # Change any reference to mat1 and mat2 to self.mat and matrix.mat respectively\n",
    "    # Return your result as a Matrix2D(result). This will ensure that we return a new matrix and not a list of lists.\n",
    "    \n",
    "    # Your code here:\n",
    "   #need to specify dimensions before before filling in empty list\n",
    "    def addition(self, matrix):\n",
    "        print(self.mat)\n",
    "        print(matrix.mat)\n",
    "        for i in range(len(self.mat)):\n",
    "            for j in range(len(self.mat[0])):\n",
    "                result[i][j]=self.mat[i][j]+matrix.mat[i][j]\n",
    "        return(result)"
   ]
  },
  {
   "cell_type": "code",
   "execution_count": 17,
   "metadata": {},
   "outputs": [
    {
     "name": "stdout",
     "output_type": "stream",
     "text": [
      "(2, 3)\n",
      "(2, 3)\n",
      "(2, 3)\n",
      "(2, 3)\n",
      "[[1, 2, 3], [4, 5, 6]]\n",
      "[[7, 8, 9], [10, 11, 12]]\n"
     ]
    },
    {
     "data": {
      "text/plain": [
       "array([[ 8., 10., 12.],\n",
       "       [14., 16., 18.]])"
      ]
     },
     "execution_count": 17,
     "metadata": {},
     "output_type": "execute_result"
    }
   ],
   "source": [
    "Matrix2D([[1,2,3],[4,5,6]]).addition(Matrix2D([[7,8,9],[10,11,12]]))"
   ]
  },
  {
   "cell_type": "markdown",
   "metadata": {},
   "source": [
    "# Bonus Challenge 2 - Transpose Function\n",
    "\n",
    "#### Write a function that transposes the matrix and add it to your class.\n",
    "\n",
    "You can read more about the transpose of a matrix [here](https://en.wikipedia.org/wiki/Transpose).\n",
    "\n",
    "Hint: Use the zip function. Read about it [here](https://docs.python.org/3.3/library/functions.html#zip)\n",
    "\n",
    "Second Hint: Read about the asterisk in Python [here](https://docs.python.org/3/reference/expressions.html#expression-lists)"
   ]
  },
  {
   "cell_type": "code",
   "execution_count": 1,
   "metadata": {},
   "outputs": [],
   "source": [
    "import numpy as np\n",
    "\n",
    "\n",
    "\n",
    "    \n",
    "def transpose(mat):\n",
    "    np.transpose(mat)\n",
    "    print(np.transpose(mat))\n",
    "    # This function takes a list of lists and returns a transposed list of lists.\n",
    "    # Input: list of lists\n",
    "    # Output: list of lists\n",
    "   \n",
    "    # Sample Input: [[1,2,3],[4,5,6]]\n",
    "    # Sample Output: [[1,4], [2,5], [3,6]]\n",
    "  \n",
    "    # Your code here:\n",
    "    "
   ]
  },
  {
   "cell_type": "code",
   "execution_count": 2,
   "metadata": {},
   "outputs": [
    {
     "name": "stdout",
     "output_type": "stream",
     "text": [
      "[[1 4]\n",
      " [2 5]\n",
      " [3 6]]\n"
     ]
    }
   ],
   "source": [
    "transpose([[1,2,3],[4,5,6]])"
   ]
  },
  {
   "cell_type": "code",
   "execution_count": null,
   "metadata": {},
   "outputs": [],
   "source": []
  },
  {
   "cell_type": "code",
   "execution_count": null,
   "metadata": {},
   "outputs": [],
   "source": []
  }
 ],
 "metadata": {
  "kernelspec": {
   "display_name": "Python 3",
   "language": "python",
   "name": "python3"
  },
  "language_info": {
   "codemirror_mode": {
    "name": "ipython",
    "version": 3
   },
   "file_extension": ".py",
   "mimetype": "text/x-python",
   "name": "python",
   "nbconvert_exporter": "python",
   "pygments_lexer": "ipython3",
   "version": "3.7.3"
  }
 },
 "nbformat": 4,
 "nbformat_minor": 2
}
